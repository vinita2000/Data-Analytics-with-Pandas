{
 "cells": [
  {
   "cell_type": "code",
   "execution_count": 1,
   "id": "10b1a1c1-d8ea-49a3-b9a6-6d6cb5fe7bec",
   "metadata": {},
   "outputs": [],
   "source": [
    "# Dataset url - https://www.kaggle.com/datasets/ravindrasinghrana/employeedataset\n",
    "import pandas as pd\n",
    "import numpy as np"
   ]
  },
  {
   "cell_type": "code",
   "execution_count": 2,
   "id": "d486608d-4506-4938-865f-1001fda17714",
   "metadata": {},
   "outputs": [],
   "source": [
    "employeeData = pd.read_csv('employee_data.csv')\n",
    "engagementData = pd.read_csv('employee_engagement_survey_data.csv')\n",
    "recruitmentData = pd.read_csv('recruitment_data.csv')\n",
    "trainingData = pd.read_csv('training_and_development_data.csv')"
   ]
  },
  {
   "cell_type": "code",
   "execution_count": 3,
   "id": "bdd7239c-154e-4b77-af82-e220cc20f873",
   "metadata": {},
   "outputs": [],
   "source": [
    "# show all the columns and rows\n",
    "pd.set_option('display.max_columns', 10)\n",
    "#pd.set_option('display.max_rows', None)"
   ]
  },
  {
   "cell_type": "code",
   "execution_count": 4,
   "id": "d98ffc34-61b0-4795-a82c-ed22e3f078f7",
   "metadata": {},
   "outputs": [
    {
     "data": {
      "text/plain": [
       "(3000, 9)"
      ]
     },
     "execution_count": 4,
     "metadata": {},
     "output_type": "execute_result"
    }
   ],
   "source": [
    "trainingData.shape"
   ]
  },
  {
   "cell_type": "code",
   "execution_count": 5,
   "id": "cbe08da2-67a3-40a4-81d6-d6fd48b7718b",
   "metadata": {},
   "outputs": [
    {
     "data": {
      "text/plain": [
       "Employee ID                  int64\n",
       "Training Date               object\n",
       "Training Program Name       object\n",
       "Training Type               object\n",
       "Training Outcome            object\n",
       "Location                    object\n",
       "Trainer                     object\n",
       "Training Duration(Days)      int64\n",
       "Training Cost              float64\n",
       "dtype: object"
      ]
     },
     "execution_count": 5,
     "metadata": {},
     "output_type": "execute_result"
    }
   ],
   "source": [
    "trainingData.dtypes"
   ]
  },
  {
   "cell_type": "code",
   "execution_count": 6,
   "id": "6ccdf89a-d36c-4ca4-a39a-af542449e501",
   "metadata": {},
   "outputs": [],
   "source": [
    "# convert training date to date type\n",
    "trainingData['Training Date'] = pd.to_datetime(trainingData['Training Date'], format='%d-%b-%y')"
   ]
  },
  {
   "cell_type": "code",
   "execution_count": 7,
   "id": "bf4c0c8e-d94a-4284-aeab-73cb8d25dad9",
   "metadata": {},
   "outputs": [
    {
     "data": {
      "text/plain": [
       "Training Type\n",
       "Internal    1509\n",
       "External    1491\n",
       "Name: count, dtype: int64"
      ]
     },
     "execution_count": 7,
     "metadata": {},
     "output_type": "execute_result"
    }
   ],
   "source": [
    "# categories on Training type\n",
    "trainingData['Training Type'].value_counts(dropna=False)"
   ]
  },
  {
   "cell_type": "code",
   "execution_count": 8,
   "id": "9394c807-2e75-44ae-9807-e258e1b3ef53",
   "metadata": {},
   "outputs": [
    {
     "data": {
      "text/plain": [
       "array([2022, 2023])"
      ]
     },
     "execution_count": 8,
     "metadata": {},
     "output_type": "execute_result"
    }
   ],
   "source": [
    "# find distinct years training was conducted\n",
    "trainingData['Training Date'].dt.year.unique()"
   ]
  },
  {
   "cell_type": "code",
   "execution_count": 9,
   "id": "c5c69d58-5eeb-433f-b73a-8c52b1f64817",
   "metadata": {},
   "outputs": [
    {
     "data": {
      "text/html": [
       "<div>\n",
       "<style scoped>\n",
       "    .dataframe tbody tr th:only-of-type {\n",
       "        vertical-align: middle;\n",
       "    }\n",
       "\n",
       "    .dataframe tbody tr th {\n",
       "        vertical-align: top;\n",
       "    }\n",
       "\n",
       "    .dataframe thead th {\n",
       "        text-align: right;\n",
       "    }\n",
       "</style>\n",
       "<table border=\"1\" class=\"dataframe\">\n",
       "  <thead>\n",
       "    <tr style=\"text-align: right;\">\n",
       "      <th></th>\n",
       "      <th>Training Outcome</th>\n",
       "      <th>No of Employees</th>\n",
       "    </tr>\n",
       "  </thead>\n",
       "  <tbody>\n",
       "    <tr>\n",
       "      <th>0</th>\n",
       "      <td>Completed</td>\n",
       "      <td>770</td>\n",
       "    </tr>\n",
       "    <tr>\n",
       "      <th>1</th>\n",
       "      <td>Failed</td>\n",
       "      <td>716</td>\n",
       "    </tr>\n",
       "    <tr>\n",
       "      <th>2</th>\n",
       "      <td>Incomplete</td>\n",
       "      <td>775</td>\n",
       "    </tr>\n",
       "    <tr>\n",
       "      <th>3</th>\n",
       "      <td>Passed</td>\n",
       "      <td>739</td>\n",
       "    </tr>\n",
       "  </tbody>\n",
       "</table>\n",
       "</div>"
      ],
      "text/plain": [
       "  Training Outcome  No of Employees\n",
       "0        Completed              770\n",
       "1           Failed              716\n",
       "2       Incomplete              775\n",
       "3           Passed              739"
      ]
     },
     "execution_count": 9,
     "metadata": {},
     "output_type": "execute_result"
    }
   ],
   "source": [
    "# categories on training outcome\n",
    "trainingData.groupby('Training Outcome').size().reset_index(name='No of Employees')"
   ]
  },
  {
   "cell_type": "code",
   "execution_count": 10,
   "id": "ac590081-4ed8-47a6-a7e7-9d8de6ab64e6",
   "metadata": {},
   "outputs": [
    {
     "data": {
      "text/html": [
       "<div>\n",
       "<style scoped>\n",
       "    .dataframe tbody tr th:only-of-type {\n",
       "        vertical-align: middle;\n",
       "    }\n",
       "\n",
       "    .dataframe tbody tr th {\n",
       "        vertical-align: top;\n",
       "    }\n",
       "\n",
       "    .dataframe thead th {\n",
       "        text-align: right;\n",
       "    }\n",
       "</style>\n",
       "<table border=\"1\" class=\"dataframe\">\n",
       "  <thead>\n",
       "    <tr style=\"text-align: right;\">\n",
       "      <th></th>\n",
       "      <th>Training Outcome</th>\n",
       "      <th>No of Employees</th>\n",
       "    </tr>\n",
       "  </thead>\n",
       "  <tbody>\n",
       "    <tr>\n",
       "      <th>0</th>\n",
       "      <td>Failed</td>\n",
       "      <td>582</td>\n",
       "    </tr>\n",
       "    <tr>\n",
       "      <th>1</th>\n",
       "      <td>Passed</td>\n",
       "      <td>594</td>\n",
       "    </tr>\n",
       "  </tbody>\n",
       "</table>\n",
       "</div>"
      ],
      "text/plain": [
       "  Training Outcome  No of Employees\n",
       "0           Failed              582\n",
       "1           Passed              594"
      ]
     },
     "execution_count": 10,
     "metadata": {},
     "output_type": "execute_result"
    }
   ],
   "source": [
    "# how many current employees Passed vs Failed their training\n",
    "joinedDF = trainingData.merge(employeeData, how='inner', left_on='Employee ID', right_on='EmpID')\n",
    "joinedDF.loc[\n",
    "(joinedDF.EmployeeStatus=='Active') & ((joinedDF['Training Outcome']=='Failed') | (joinedDF['Training Outcome']=='Passed'))\n",
    "].groupby('Training Outcome').size().reset_index(name='No of Employees')"
   ]
  },
  {
   "cell_type": "code",
   "execution_count": 11,
   "id": "7fef5b05-ec44-4b64-9e83-d24f35645956",
   "metadata": {},
   "outputs": [
    {
     "data": {
      "text/plain": [
       "1784"
      ]
     },
     "execution_count": 11,
     "metadata": {},
     "output_type": "execute_result"
    }
   ],
   "source": [
    "# how many current employee attended the training in the most recent year\n",
    "trainingData.loc[trainingData['Training Date'].dt.year == trainingData['Training Date'].dt.year.max()]['Employee ID'].count()"
   ]
  },
  {
   "cell_type": "code",
   "execution_count": 12,
   "id": "7adac9cd-e210-4358-a8ca-ecc7cbb018dd",
   "metadata": {},
   "outputs": [
    {
     "data": {
      "text/html": [
       "<div>\n",
       "<style scoped>\n",
       "    .dataframe tbody tr th:only-of-type {\n",
       "        vertical-align: middle;\n",
       "    }\n",
       "\n",
       "    .dataframe tbody tr th {\n",
       "        vertical-align: top;\n",
       "    }\n",
       "\n",
       "    .dataframe thead th {\n",
       "        text-align: right;\n",
       "    }\n",
       "</style>\n",
       "<table border=\"1\" class=\"dataframe\">\n",
       "  <thead>\n",
       "    <tr style=\"text-align: right;\">\n",
       "      <th></th>\n",
       "      <th>Training Date</th>\n",
       "      <th>Training Program Name</th>\n",
       "      <th>Trainer</th>\n",
       "      <th>Location</th>\n",
       "      <th>Training Outcome</th>\n",
       "    </tr>\n",
       "  </thead>\n",
       "  <tbody>\n",
       "    <tr>\n",
       "      <th>1585</th>\n",
       "      <td>2022-08-05</td>\n",
       "      <td>Customer Service</td>\n",
       "      <td>Diana Walsh</td>\n",
       "      <td>Bradborough</td>\n",
       "      <td>Completed</td>\n",
       "    </tr>\n",
       "    <tr>\n",
       "      <th>824</th>\n",
       "      <td>2022-08-05</td>\n",
       "      <td>Technical Skills</td>\n",
       "      <td>Robert Weaver</td>\n",
       "      <td>North Robertside</td>\n",
       "      <td>Completed</td>\n",
       "    </tr>\n",
       "    <tr>\n",
       "      <th>863</th>\n",
       "      <td>2022-08-06</td>\n",
       "      <td>Project Management</td>\n",
       "      <td>Laurie Miller</td>\n",
       "      <td>South Waltershire</td>\n",
       "      <td>Completed</td>\n",
       "    </tr>\n",
       "    <tr>\n",
       "      <th>399</th>\n",
       "      <td>2022-08-06</td>\n",
       "      <td>Communication Skills</td>\n",
       "      <td>David Dennis</td>\n",
       "      <td>New Melissachester</td>\n",
       "      <td>Failed</td>\n",
       "    </tr>\n",
       "    <tr>\n",
       "      <th>431</th>\n",
       "      <td>2022-08-06</td>\n",
       "      <td>Communication Skills</td>\n",
       "      <td>Crystal Baldwin</td>\n",
       "      <td>Patelstad</td>\n",
       "      <td>Completed</td>\n",
       "    </tr>\n",
       "    <tr>\n",
       "      <th>...</th>\n",
       "      <td>...</td>\n",
       "      <td>...</td>\n",
       "      <td>...</td>\n",
       "      <td>...</td>\n",
       "      <td>...</td>\n",
       "    </tr>\n",
       "    <tr>\n",
       "      <th>844</th>\n",
       "      <td>2022-12-31</td>\n",
       "      <td>Customer Service</td>\n",
       "      <td>Christopher Rowe</td>\n",
       "      <td>Natashaburgh</td>\n",
       "      <td>Passed</td>\n",
       "    </tr>\n",
       "    <tr>\n",
       "      <th>756</th>\n",
       "      <td>2022-12-31</td>\n",
       "      <td>Technical Skills</td>\n",
       "      <td>Barbara Cochran</td>\n",
       "      <td>Port Brittanyton</td>\n",
       "      <td>Incomplete</td>\n",
       "    </tr>\n",
       "    <tr>\n",
       "      <th>2209</th>\n",
       "      <td>2022-12-31</td>\n",
       "      <td>Project Management</td>\n",
       "      <td>Christopher Caldwell</td>\n",
       "      <td>Lake Jillianside</td>\n",
       "      <td>Failed</td>\n",
       "    </tr>\n",
       "    <tr>\n",
       "      <th>1726</th>\n",
       "      <td>2022-12-31</td>\n",
       "      <td>Communication Skills</td>\n",
       "      <td>Donna Cain PhD</td>\n",
       "      <td>Daisyview</td>\n",
       "      <td>Incomplete</td>\n",
       "    </tr>\n",
       "    <tr>\n",
       "      <th>727</th>\n",
       "      <td>2022-12-31</td>\n",
       "      <td>Customer Service</td>\n",
       "      <td>Joel Thomas</td>\n",
       "      <td>Lake Dustin</td>\n",
       "      <td>Completed</td>\n",
       "    </tr>\n",
       "  </tbody>\n",
       "</table>\n",
       "<p>1216 rows × 5 columns</p>\n",
       "</div>"
      ],
      "text/plain": [
       "     Training Date Training Program Name               Trainer  \\\n",
       "1585    2022-08-05      Customer Service           Diana Walsh   \n",
       "824     2022-08-05      Technical Skills         Robert Weaver   \n",
       "863     2022-08-06    Project Management         Laurie Miller   \n",
       "399     2022-08-06  Communication Skills          David Dennis   \n",
       "431     2022-08-06  Communication Skills       Crystal Baldwin   \n",
       "...            ...                   ...                   ...   \n",
       "844     2022-12-31      Customer Service      Christopher Rowe   \n",
       "756     2022-12-31      Technical Skills       Barbara Cochran   \n",
       "2209    2022-12-31    Project Management  Christopher Caldwell   \n",
       "1726    2022-12-31  Communication Skills        Donna Cain PhD   \n",
       "727     2022-12-31      Customer Service           Joel Thomas   \n",
       "\n",
       "                Location Training Outcome  \n",
       "1585         Bradborough        Completed  \n",
       "824     North Robertside        Completed  \n",
       "863    South Waltershire        Completed  \n",
       "399   New Melissachester           Failed  \n",
       "431            Patelstad        Completed  \n",
       "...                  ...              ...  \n",
       "844         Natashaburgh           Passed  \n",
       "756     Port Brittanyton       Incomplete  \n",
       "2209    Lake Jillianside           Failed  \n",
       "1726           Daisyview       Incomplete  \n",
       "727          Lake Dustin        Completed  \n",
       "\n",
       "[1216 rows x 5 columns]"
      ]
     },
     "execution_count": 12,
     "metadata": {},
     "output_type": "execute_result"
    }
   ],
   "source": [
    "# which year was the first training organized, who was the trainer, location and the outcome\n",
    "trainingData.loc[\n",
    "    trainingData['Training Date'].dt.year == trainingData['Training Date'].dt.year.min()\n",
    "][['Training Date', 'Training Program Name', 'Trainer', 'Location', 'Training Outcome']].sort_values(by='Training Date')"
   ]
  },
  {
   "cell_type": "code",
   "execution_count": 13,
   "id": "1ede0869-ea0d-46c8-82cf-bde3f69285c0",
   "metadata": {},
   "outputs": [
    {
     "data": {
      "text/plain": [
       "Location\n",
       "Smithchester         6\n",
       "South Jennifer       5\n",
       "Lake Michael         5\n",
       "East Michael         5\n",
       "Joneston             4\n",
       "                    ..\n",
       "New Audrey           1\n",
       "North Barbaraberg    1\n",
       "Campbellhaven        1\n",
       "Erikmouth            1\n",
       "Jamesfurt            1\n",
       "Name: count, Length: 2738, dtype: int64"
      ]
     },
     "execution_count": 13,
     "metadata": {},
     "output_type": "execute_result"
    }
   ],
   "source": [
    "# find out all the locations where trainings were held\n",
    "trainingData.Location.unique()\n",
    "# or\n",
    "trainingData.Location.value_counts(dropna=False)"
   ]
  },
  {
   "cell_type": "code",
   "execution_count": 14,
   "id": "5233e00c-8138-42e1-a975-d1721dc0b6d1",
   "metadata": {},
   "outputs": [
    {
     "data": {
      "text/html": [
       "<div>\n",
       "<style scoped>\n",
       "    .dataframe tbody tr th:only-of-type {\n",
       "        vertical-align: middle;\n",
       "    }\n",
       "\n",
       "    .dataframe tbody tr th {\n",
       "        vertical-align: top;\n",
       "    }\n",
       "\n",
       "    .dataframe thead th {\n",
       "        text-align: right;\n",
       "    }\n",
       "</style>\n",
       "<table border=\"1\" class=\"dataframe\">\n",
       "  <thead>\n",
       "    <tr style=\"text-align: right;\">\n",
       "      <th></th>\n",
       "      <th>Location</th>\n",
       "      <th>No of Employees</th>\n",
       "    </tr>\n",
       "  </thead>\n",
       "  <tbody>\n",
       "    <tr>\n",
       "      <th>0</th>\n",
       "      <td>Smithchester</td>\n",
       "      <td>6</td>\n",
       "    </tr>\n",
       "  </tbody>\n",
       "</table>\n",
       "</div>"
      ],
      "text/plain": [
       "       Location  No of Employees\n",
       "0  Smithchester                6"
      ]
     },
     "execution_count": 14,
     "metadata": {},
     "output_type": "execute_result"
    }
   ],
   "source": [
    "# find out the number of training in each location and which location has had the most trainings\n",
    "trainingData.Location.value_counts(dropna=False).reset_index(name='No of Employees').sort_values(by='No of Employees', ascending=False).head(1)"
   ]
  },
  {
   "cell_type": "code",
   "execution_count": 15,
   "id": "ab22b9fb-fd98-4408-a015-e7eb7e0cb46f",
   "metadata": {},
   "outputs": [
    {
     "data": {
      "text/plain": [
       "2942"
      ]
     },
     "execution_count": 15,
     "metadata": {},
     "output_type": "execute_result"
    }
   ],
   "source": [
    "# how many distinct trainers have trained the employees\n",
    "trainingData.Trainer.unique().size"
   ]
  },
  {
   "cell_type": "code",
   "execution_count": 16,
   "id": "aa65528d-e8d3-47b4-8f2d-2de84282cf27",
   "metadata": {},
   "outputs": [
    {
     "data": {
      "text/plain": [
       "Trainer            51\n",
       "No of Trainings    51\n",
       "dtype: int64"
      ]
     },
     "execution_count": 16,
     "metadata": {},
     "output_type": "execute_result"
    }
   ],
   "source": [
    "# find trainers who trained the employees more than once\n",
    "groupedDF = trainingData.groupby('Trainer').size().reset_index(name='No of Trainings')\n",
    "groupedDF.loc[groupedDF['No of Trainings'] > 1].count()"
   ]
  },
  {
   "cell_type": "code",
   "execution_count": 17,
   "id": "512cd127-eb80-48db-a8a0-4c82fdba3d6e",
   "metadata": {},
   "outputs": [
    {
     "data": {
      "text/html": [
       "<div>\n",
       "<style scoped>\n",
       "    .dataframe tbody tr th:only-of-type {\n",
       "        vertical-align: middle;\n",
       "    }\n",
       "\n",
       "    .dataframe tbody tr th {\n",
       "        vertical-align: top;\n",
       "    }\n",
       "\n",
       "    .dataframe thead th {\n",
       "        text-align: right;\n",
       "    }\n",
       "</style>\n",
       "<table border=\"1\" class=\"dataframe\">\n",
       "  <thead>\n",
       "    <tr style=\"text-align: right;\">\n",
       "      <th></th>\n",
       "      <th>Trainer</th>\n",
       "      <th>No of Trainings</th>\n",
       "    </tr>\n",
       "  </thead>\n",
       "  <tbody>\n",
       "    <tr>\n",
       "      <th>2004</th>\n",
       "      <td>Michael Smith</td>\n",
       "      <td>4</td>\n",
       "    </tr>\n",
       "  </tbody>\n",
       "</table>\n",
       "</div>"
      ],
      "text/plain": [
       "            Trainer  No of Trainings\n",
       "2004  Michael Smith                4"
      ]
     },
     "execution_count": 17,
     "metadata": {},
     "output_type": "execute_result"
    }
   ],
   "source": [
    "# which trainer took the most number of trainings and how many\n",
    "trainingData.groupby('Trainer').size().reset_index(name='No of Trainings').sort_values(by='No of Trainings', ascending=False).head(1)"
   ]
  },
  {
   "cell_type": "code",
   "execution_count": 18,
   "id": "08c09688-aee8-4a18-bf91-cd44a80edca1",
   "metadata": {},
   "outputs": [
    {
     "data": {
      "text/plain": [
       "2.98"
      ]
     },
     "execution_count": 18,
     "metadata": {},
     "output_type": "execute_result"
    }
   ],
   "source": [
    "# what is the average training duration \n",
    "round(trainingData['Training Duration(Days)'].mean(), 2)"
   ]
  },
  {
   "cell_type": "code",
   "execution_count": 19,
   "id": "0b894133-b83d-42f2-bce8-04bcbbc3faa5",
   "metadata": {},
   "outputs": [
    {
     "data": {
      "text/html": [
       "<div>\n",
       "<style scoped>\n",
       "    .dataframe tbody tr th:only-of-type {\n",
       "        vertical-align: middle;\n",
       "    }\n",
       "\n",
       "    .dataframe tbody tr th {\n",
       "        vertical-align: top;\n",
       "    }\n",
       "\n",
       "    .dataframe thead th {\n",
       "        text-align: right;\n",
       "    }\n",
       "</style>\n",
       "<table border=\"1\" class=\"dataframe\">\n",
       "  <thead>\n",
       "    <tr style=\"text-align: right;\">\n",
       "      <th></th>\n",
       "      <th>Training Year</th>\n",
       "      <th>Average Duration(Days)</th>\n",
       "    </tr>\n",
       "  </thead>\n",
       "  <tbody>\n",
       "    <tr>\n",
       "      <th>0</th>\n",
       "      <td>2022</td>\n",
       "      <td>3.029605</td>\n",
       "    </tr>\n",
       "    <tr>\n",
       "      <th>1</th>\n",
       "      <td>2023</td>\n",
       "      <td>2.938901</td>\n",
       "    </tr>\n",
       "  </tbody>\n",
       "</table>\n",
       "</div>"
      ],
      "text/plain": [
       "   Training Year  Average Duration(Days)\n",
       "0           2022                3.029605\n",
       "1           2023                2.938901"
      ]
     },
     "execution_count": 19,
     "metadata": {},
     "output_type": "execute_result"
    }
   ],
   "source": [
    "# what is the average training duration for each year\n",
    "trainingData.groupby(trainingData['Training Date'].dt.year)['Training Duration(Days)'].mean().reset_index(name='average').rename(\n",
    "    columns = {\n",
    "        'Training Date': 'Training Year',\n",
    "        'average': 'Average Duration(Days)'\n",
    "    }\n",
    ")"
   ]
  },
  {
   "cell_type": "code",
   "execution_count": 20,
   "id": "26608e93-3457-4aef-a0b4-6878c20e3440",
   "metadata": {},
   "outputs": [
    {
     "data": {
      "text/plain": [
       "8927"
      ]
     },
     "execution_count": 20,
     "metadata": {},
     "output_type": "execute_result"
    }
   ],
   "source": [
    "# find the total days of training conducted by the firm\n",
    "trainingData['Training Duration(Days)'].sum()"
   ]
  },
  {
   "cell_type": "code",
   "execution_count": 21,
   "id": "460e5564-4fa5-468b-8353-3094057023ad",
   "metadata": {},
   "outputs": [
    {
     "data": {
      "text/plain": [
       "1675886.09"
      ]
     },
     "execution_count": 21,
     "metadata": {},
     "output_type": "execute_result"
    }
   ],
   "source": [
    "# find the total training cost incurred to the firm\n",
    "round(trainingData['Training Cost'].sum(), 2)"
   ]
  },
  {
   "cell_type": "code",
   "execution_count": 22,
   "id": "db334876-8009-42b2-b88a-5e1a8347ceb3",
   "metadata": {},
   "outputs": [
    {
     "data": {
      "text/html": [
       "<div>\n",
       "<style scoped>\n",
       "    .dataframe tbody tr th:only-of-type {\n",
       "        vertical-align: middle;\n",
       "    }\n",
       "\n",
       "    .dataframe tbody tr th {\n",
       "        vertical-align: top;\n",
       "    }\n",
       "\n",
       "    .dataframe thead th {\n",
       "        text-align: right;\n",
       "    }\n",
       "</style>\n",
       "<table border=\"1\" class=\"dataframe\">\n",
       "  <thead>\n",
       "    <tr style=\"text-align: right;\">\n",
       "      <th></th>\n",
       "      <th>Employee ID</th>\n",
       "      <th>Training Date</th>\n",
       "      <th>Training Program Name</th>\n",
       "      <th>Training Type</th>\n",
       "      <th>Training Outcome</th>\n",
       "      <th>Location</th>\n",
       "      <th>Trainer</th>\n",
       "      <th>Training Duration(Days)</th>\n",
       "      <th>Training Cost</th>\n",
       "    </tr>\n",
       "  </thead>\n",
       "  <tbody>\n",
       "    <tr>\n",
       "      <th>0</th>\n",
       "      <td>1001</td>\n",
       "      <td>2022-09-21</td>\n",
       "      <td>Customer Service</td>\n",
       "      <td>Internal</td>\n",
       "      <td>Failed</td>\n",
       "      <td>Port Greg</td>\n",
       "      <td>Amanda Daniels</td>\n",
       "      <td>4</td>\n",
       "      <td>510.83</td>\n",
       "    </tr>\n",
       "    <tr>\n",
       "      <th>1</th>\n",
       "      <td>1002</td>\n",
       "      <td>2023-07-19</td>\n",
       "      <td>Leadership Development</td>\n",
       "      <td>Internal</td>\n",
       "      <td>Failed</td>\n",
       "      <td>Brandonview</td>\n",
       "      <td>Brittany Chambers</td>\n",
       "      <td>2</td>\n",
       "      <td>582.37</td>\n",
       "    </tr>\n",
       "    <tr>\n",
       "      <th>2</th>\n",
       "      <td>1003</td>\n",
       "      <td>2023-02-24</td>\n",
       "      <td>Technical Skills</td>\n",
       "      <td>Internal</td>\n",
       "      <td>Incomplete</td>\n",
       "      <td>Port Briannahaven</td>\n",
       "      <td>Mark Roberson</td>\n",
       "      <td>4</td>\n",
       "      <td>777.06</td>\n",
       "    </tr>\n",
       "    <tr>\n",
       "      <th>3</th>\n",
       "      <td>1004</td>\n",
       "      <td>2023-01-12</td>\n",
       "      <td>Customer Service</td>\n",
       "      <td>Internal</td>\n",
       "      <td>Completed</td>\n",
       "      <td>Knightborough</td>\n",
       "      <td>Richard Fisher</td>\n",
       "      <td>2</td>\n",
       "      <td>824.30</td>\n",
       "    </tr>\n",
       "    <tr>\n",
       "      <th>4</th>\n",
       "      <td>1005</td>\n",
       "      <td>2023-05-12</td>\n",
       "      <td>Communication Skills</td>\n",
       "      <td>External</td>\n",
       "      <td>Passed</td>\n",
       "      <td>Bruceshire</td>\n",
       "      <td>Heather Shaffer</td>\n",
       "      <td>4</td>\n",
       "      <td>145.99</td>\n",
       "    </tr>\n",
       "  </tbody>\n",
       "</table>\n",
       "</div>"
      ],
      "text/plain": [
       "   Employee ID Training Date   Training Program Name Training Type  \\\n",
       "0         1001    2022-09-21        Customer Service      Internal   \n",
       "1         1002    2023-07-19  Leadership Development      Internal   \n",
       "2         1003    2023-02-24        Technical Skills      Internal   \n",
       "3         1004    2023-01-12        Customer Service      Internal   \n",
       "4         1005    2023-05-12    Communication Skills      External   \n",
       "\n",
       "  Training Outcome           Location            Trainer  \\\n",
       "0           Failed          Port Greg     Amanda Daniels   \n",
       "1           Failed        Brandonview  Brittany Chambers   \n",
       "2       Incomplete  Port Briannahaven      Mark Roberson   \n",
       "3        Completed      Knightborough     Richard Fisher   \n",
       "4           Passed         Bruceshire    Heather Shaffer   \n",
       "\n",
       "   Training Duration(Days)  Training Cost  \n",
       "0                        4         510.83  \n",
       "1                        2         582.37  \n",
       "2                        4         777.06  \n",
       "3                        2         824.30  \n",
       "4                        4         145.99  "
      ]
     },
     "execution_count": 22,
     "metadata": {},
     "output_type": "execute_result"
    }
   ],
   "source": [
    "trainingData.head()"
   ]
  },
  {
   "cell_type": "code",
   "execution_count": 23,
   "id": "0f4d2830-1c08-40e4-b686-d359c46cd4c9",
   "metadata": {},
   "outputs": [
    {
     "data": {
      "text/html": [
       "<div>\n",
       "<style scoped>\n",
       "    .dataframe tbody tr th:only-of-type {\n",
       "        vertical-align: middle;\n",
       "    }\n",
       "\n",
       "    .dataframe tbody tr th {\n",
       "        vertical-align: top;\n",
       "    }\n",
       "\n",
       "    .dataframe thead th {\n",
       "        text-align: right;\n",
       "    }\n",
       "</style>\n",
       "<table border=\"1\" class=\"dataframe\">\n",
       "  <thead>\n",
       "    <tr style=\"text-align: right;\">\n",
       "      <th></th>\n",
       "      <th>Trainer</th>\n",
       "      <th>Total Earning</th>\n",
       "    </tr>\n",
       "  </thead>\n",
       "  <tbody>\n",
       "    <tr>\n",
       "      <th>2004</th>\n",
       "      <td>Michael Smith</td>\n",
       "      <td>2403.64</td>\n",
       "    </tr>\n",
       "    <tr>\n",
       "      <th>1959</th>\n",
       "      <td>Michael Brown</td>\n",
       "      <td>2222.59</td>\n",
       "    </tr>\n",
       "    <tr>\n",
       "      <th>1955</th>\n",
       "      <td>Michael Bailey</td>\n",
       "      <td>1927.07</td>\n",
       "    </tr>\n",
       "    <tr>\n",
       "      <th>1095</th>\n",
       "      <td>James Perez</td>\n",
       "      <td>1874.32</td>\n",
       "    </tr>\n",
       "    <tr>\n",
       "      <th>2199</th>\n",
       "      <td>Patricia Hernandez</td>\n",
       "      <td>1849.91</td>\n",
       "    </tr>\n",
       "    <tr>\n",
       "      <th>...</th>\n",
       "      <td>...</td>\n",
       "      <td>...</td>\n",
       "    </tr>\n",
       "    <tr>\n",
       "      <th>1501</th>\n",
       "      <td>Katelyn Hartman</td>\n",
       "      <td>101.21</td>\n",
       "    </tr>\n",
       "    <tr>\n",
       "      <th>597</th>\n",
       "      <td>Crystal Elliott</td>\n",
       "      <td>100.55</td>\n",
       "    </tr>\n",
       "    <tr>\n",
       "      <th>2091</th>\n",
       "      <td>Mr. Scott Gomez</td>\n",
       "      <td>100.45</td>\n",
       "    </tr>\n",
       "    <tr>\n",
       "      <th>506</th>\n",
       "      <td>Christine Stein</td>\n",
       "      <td>100.17</td>\n",
       "    </tr>\n",
       "    <tr>\n",
       "      <th>868</th>\n",
       "      <td>Emily Turner</td>\n",
       "      <td>100.04</td>\n",
       "    </tr>\n",
       "  </tbody>\n",
       "</table>\n",
       "<p>2942 rows × 2 columns</p>\n",
       "</div>"
      ],
      "text/plain": [
       "                 Trainer  Total Earning\n",
       "2004       Michael Smith        2403.64\n",
       "1959       Michael Brown        2222.59\n",
       "1955      Michael Bailey        1927.07\n",
       "1095         James Perez        1874.32\n",
       "2199  Patricia Hernandez        1849.91\n",
       "...                  ...            ...\n",
       "1501     Katelyn Hartman         101.21\n",
       "597      Crystal Elliott         100.55\n",
       "2091     Mr. Scott Gomez         100.45\n",
       "506      Christine Stein         100.17\n",
       "868         Emily Turner         100.04\n",
       "\n",
       "[2942 rows x 2 columns]"
      ]
     },
     "execution_count": 23,
     "metadata": {},
     "output_type": "execute_result"
    }
   ],
   "source": [
    "# find total earnings for each trainer\n",
    "trainingData.groupby('Trainer')['Training Cost'].sum().reset_index(name='Total Earning').sort_values(by='Total Earning', ascending=False)"
   ]
  },
  {
   "cell_type": "code",
   "execution_count": 24,
   "id": "f66c6541-7247-40cf-b8dc-aad7cfd4921b",
   "metadata": {},
   "outputs": [
    {
     "data": {
      "text/plain": [
       "count    3000.000000\n",
       "mean      558.628697\n",
       "std       263.217698\n",
       "min       100.040000\n",
       "25%       327.587500\n",
       "50%       572.125000\n",
       "75%       786.987500\n",
       "max       999.970000\n",
       "Name: Training Cost, dtype: float64"
      ]
     },
     "execution_count": 24,
     "metadata": {},
     "output_type": "execute_result"
    }
   ],
   "source": [
    "# describe training cost\n",
    "trainingData['Training Cost'].describe()"
   ]
  },
  {
   "cell_type": "code",
   "execution_count": null,
   "id": "4c6f5b16-d26b-44ff-a9db-915f72bc7402",
   "metadata": {},
   "outputs": [],
   "source": []
  }
 ],
 "metadata": {
  "kernelspec": {
   "display_name": "Python 3 (ipykernel)",
   "language": "python",
   "name": "python3"
  },
  "language_info": {
   "codemirror_mode": {
    "name": "ipython",
    "version": 3
   },
   "file_extension": ".py",
   "mimetype": "text/x-python",
   "name": "python",
   "nbconvert_exporter": "python",
   "pygments_lexer": "ipython3",
   "version": "3.12.4"
  }
 },
 "nbformat": 4,
 "nbformat_minor": 5
}
