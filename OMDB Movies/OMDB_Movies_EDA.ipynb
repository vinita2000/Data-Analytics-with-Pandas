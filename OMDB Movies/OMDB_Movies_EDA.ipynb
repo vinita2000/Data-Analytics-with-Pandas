{
 "cells": [
  {
   "cell_type": "code",
   "execution_count": 47,
   "id": "10b1a1c1-d8ea-49a3-b9a6-6d6cb5fe7bec",
   "metadata": {},
   "outputs": [],
   "source": [
    "import pandas as pd\n",
    "from matplotlib import pyplot as plt"
   ]
  },
  {
   "cell_type": "code",
   "execution_count": 2,
   "id": "e3ff2d5a-8a35-41bd-8ea6-9b4a0c675414",
   "metadata": {},
   "outputs": [],
   "source": [
    "movies = pd.read_csv('https://raw.githubusercontent.com/mottaquikarim/PythonProgramming/master/raw_data/movies_rated.csv')"
   ]
  },
  {
   "cell_type": "code",
   "execution_count": 3,
   "id": "647b5238-76a0-46ed-aaed-5ac46975720f",
   "metadata": {},
   "outputs": [
    {
     "data": {
      "text/html": [
       "<div>\n",
       "<style scoped>\n",
       "    .dataframe tbody tr th:only-of-type {\n",
       "        vertical-align: middle;\n",
       "    }\n",
       "\n",
       "    .dataframe tbody tr th {\n",
       "        vertical-align: top;\n",
       "    }\n",
       "\n",
       "    .dataframe thead th {\n",
       "        text-align: right;\n",
       "    }\n",
       "</style>\n",
       "<table border=\"1\" class=\"dataframe\">\n",
       "  <thead>\n",
       "    <tr style=\"text-align: right;\">\n",
       "      <th></th>\n",
       "      <th>title</th>\n",
       "      <th>year</th>\n",
       "      <th>content_rating</th>\n",
       "      <th>genre</th>\n",
       "      <th>duration</th>\n",
       "      <th>gross</th>\n",
       "      <th>Internet Movie Database</th>\n",
       "      <th>Rotten Tomatoes</th>\n",
       "      <th>Metacritic</th>\n",
       "    </tr>\n",
       "  </thead>\n",
       "  <tbody>\n",
       "    <tr>\n",
       "      <th>0</th>\n",
       "      <td>The Shawshank Redemption</td>\n",
       "      <td>1994</td>\n",
       "      <td>R</td>\n",
       "      <td>Drama</td>\n",
       "      <td>142</td>\n",
       "      <td>1963330</td>\n",
       "      <td>9.3</td>\n",
       "      <td>9.1</td>\n",
       "      <td>8.0</td>\n",
       "    </tr>\n",
       "    <tr>\n",
       "      <th>1</th>\n",
       "      <td>The Godfather</td>\n",
       "      <td>1972</td>\n",
       "      <td>R</td>\n",
       "      <td>Crime</td>\n",
       "      <td>175</td>\n",
       "      <td>28341469</td>\n",
       "      <td>9.2</td>\n",
       "      <td>9.8</td>\n",
       "      <td>10.0</td>\n",
       "    </tr>\n",
       "    <tr>\n",
       "      <th>2</th>\n",
       "      <td>The Dark Knight</td>\n",
       "      <td>2008</td>\n",
       "      <td>PG-13</td>\n",
       "      <td>Action</td>\n",
       "      <td>152</td>\n",
       "      <td>1344258</td>\n",
       "      <td>9.0</td>\n",
       "      <td>9.4</td>\n",
       "      <td>8.2</td>\n",
       "    </tr>\n",
       "    <tr>\n",
       "      <th>3</th>\n",
       "      <td>The Godfather: Part II</td>\n",
       "      <td>1974</td>\n",
       "      <td>R</td>\n",
       "      <td>Crime</td>\n",
       "      <td>202</td>\n",
       "      <td>134966411</td>\n",
       "      <td>9.0</td>\n",
       "      <td>9.7</td>\n",
       "      <td>9.0</td>\n",
       "    </tr>\n",
       "    <tr>\n",
       "      <th>4</th>\n",
       "      <td>Pulp Fiction</td>\n",
       "      <td>1994</td>\n",
       "      <td>R</td>\n",
       "      <td>Crime</td>\n",
       "      <td>154</td>\n",
       "      <td>1935047</td>\n",
       "      <td>8.9</td>\n",
       "      <td>9.4</td>\n",
       "      <td>9.4</td>\n",
       "    </tr>\n",
       "  </tbody>\n",
       "</table>\n",
       "</div>"
      ],
      "text/plain": [
       "                      title  year content_rating              genre  duration  \\\n",
       "0  The Shawshank Redemption  1994              R  Drama                   142   \n",
       "1             The Godfather  1972              R              Crime       175   \n",
       "2           The Dark Knight  2008          PG-13             Action       152   \n",
       "3    The Godfather: Part II  1974              R              Crime       202   \n",
       "4              Pulp Fiction  1994              R              Crime       154   \n",
       "\n",
       "       gross  Internet Movie Database  Rotten Tomatoes  Metacritic  \n",
       "0    1963330                      9.3              9.1         8.0  \n",
       "1   28341469                      9.2              9.8        10.0  \n",
       "2    1344258                      9.0              9.4         8.2  \n",
       "3  134966411                      9.0              9.7         9.0  \n",
       "4    1935047                      8.9              9.4         9.4  "
      ]
     },
     "execution_count": 3,
     "metadata": {},
     "output_type": "execute_result"
    }
   ],
   "source": [
    "movies.head()"
   ]
  },
  {
   "cell_type": "code",
   "execution_count": 4,
   "id": "8e254f4b-e542-4a08-9f05-44c7c8db4ec3",
   "metadata": {},
   "outputs": [
    {
     "data": {
      "text/html": [
       "<div>\n",
       "<style scoped>\n",
       "    .dataframe tbody tr th:only-of-type {\n",
       "        vertical-align: middle;\n",
       "    }\n",
       "\n",
       "    .dataframe tbody tr th {\n",
       "        vertical-align: top;\n",
       "    }\n",
       "\n",
       "    .dataframe thead th {\n",
       "        text-align: right;\n",
       "    }\n",
       "</style>\n",
       "<table border=\"1\" class=\"dataframe\">\n",
       "  <thead>\n",
       "    <tr style=\"text-align: right;\">\n",
       "      <th></th>\n",
       "      <th>title</th>\n",
       "      <th>year</th>\n",
       "      <th>content_rating</th>\n",
       "      <th>genre</th>\n",
       "      <th>duration</th>\n",
       "      <th>gross</th>\n",
       "      <th>Internet Movie Database</th>\n",
       "      <th>Rotten Tomatoes</th>\n",
       "      <th>Metacritic</th>\n",
       "    </tr>\n",
       "  </thead>\n",
       "  <tbody>\n",
       "    <tr>\n",
       "      <th>74</th>\n",
       "      <td>L.A. Confidential</td>\n",
       "      <td>1997</td>\n",
       "      <td>R</td>\n",
       "      <td>Crime</td>\n",
       "      <td>138</td>\n",
       "      <td>13182281</td>\n",
       "      <td>8.3</td>\n",
       "      <td>9.9</td>\n",
       "      <td>9.0</td>\n",
       "    </tr>\n",
       "    <tr>\n",
       "      <th>75</th>\n",
       "      <td>Reservoir Dogs</td>\n",
       "      <td>1992</td>\n",
       "      <td>PG</td>\n",
       "      <td>Crime</td>\n",
       "      <td>99</td>\n",
       "      <td>255126</td>\n",
       "      <td>8.3</td>\n",
       "      <td>9.1</td>\n",
       "      <td>7.9</td>\n",
       "    </tr>\n",
       "    <tr>\n",
       "      <th>76</th>\n",
       "      <td>Indiana Jones and the Last Crusade</td>\n",
       "      <td>1989</td>\n",
       "      <td>R</td>\n",
       "      <td>Action</td>\n",
       "      <td>127</td>\n",
       "      <td>594442</td>\n",
       "      <td>8.3</td>\n",
       "      <td>8.8</td>\n",
       "      <td>6.5</td>\n",
       "    </tr>\n",
       "    <tr>\n",
       "      <th>77</th>\n",
       "      <td>For a Few Dollars More</td>\n",
       "      <td>1965</td>\n",
       "      <td>R</td>\n",
       "      <td>Western</td>\n",
       "      <td>132</td>\n",
       "      <td>32572577</td>\n",
       "      <td>8.3</td>\n",
       "      <td>9.4</td>\n",
       "      <td>7.4</td>\n",
       "    </tr>\n",
       "    <tr>\n",
       "      <th>78</th>\n",
       "      <td>The Hunt</td>\n",
       "      <td>2012</td>\n",
       "      <td>R</td>\n",
       "      <td>Drama</td>\n",
       "      <td>115</td>\n",
       "      <td>449102</td>\n",
       "      <td>8.3</td>\n",
       "      <td>9.4</td>\n",
       "      <td>7.7</td>\n",
       "    </tr>\n",
       "  </tbody>\n",
       "</table>\n",
       "</div>"
      ],
      "text/plain": [
       "                                 title  year content_rating  \\\n",
       "74                   L.A. Confidential  1997              R   \n",
       "75                      Reservoir Dogs  1992             PG   \n",
       "76  Indiana Jones and the Last Crusade  1989              R   \n",
       "77              For a Few Dollars More  1965              R   \n",
       "78                            The Hunt  2012              R   \n",
       "\n",
       "                  genre  duration     gross  Internet Movie Database  \\\n",
       "74                Crime       138  13182281                      8.3   \n",
       "75                Crime        99    255126                      8.3   \n",
       "76               Action       127    594442                      8.3   \n",
       "77  Western                   132  32572577                      8.3   \n",
       "78                Drama       115    449102                      8.3   \n",
       "\n",
       "    Rotten Tomatoes  Metacritic  \n",
       "74              9.9         9.0  \n",
       "75              9.1         7.9  \n",
       "76              8.8         6.5  \n",
       "77              9.4         7.4  \n",
       "78              9.4         7.7  "
      ]
     },
     "execution_count": 4,
     "metadata": {},
     "output_type": "execute_result"
    }
   ],
   "source": [
    "movies.tail()"
   ]
  },
  {
   "cell_type": "code",
   "execution_count": 5,
   "id": "21fab290-f963-4671-a7e9-a9bac33fb02c",
   "metadata": {},
   "outputs": [
    {
     "data": {
      "text/plain": [
       "(79, 9)"
      ]
     },
     "execution_count": 5,
     "metadata": {},
     "output_type": "execute_result"
    }
   ],
   "source": [
    "movies.shape"
   ]
  },
  {
   "cell_type": "code",
   "execution_count": 6,
   "id": "fbf14c16-6e26-4d0f-8816-47c4eae496ec",
   "metadata": {},
   "outputs": [
    {
     "data": {
      "text/plain": [
       "title                       object\n",
       "year                         int64\n",
       "content_rating              object\n",
       "genre                       object\n",
       "duration                     int64\n",
       "gross                        int64\n",
       "Internet Movie Database    float64\n",
       "Rotten Tomatoes            float64\n",
       "Metacritic                 float64\n",
       "dtype: object"
      ]
     },
     "execution_count": 6,
     "metadata": {},
     "output_type": "execute_result"
    }
   ],
   "source": [
    "movies.dtypes"
   ]
  },
  {
   "cell_type": "code",
   "execution_count": 7,
   "id": "4bfa8669-8f16-429f-acb7-0e22681a7c12",
   "metadata": {},
   "outputs": [
    {
     "data": {
      "text/plain": [
       "RangeIndex(start=0, stop=79, step=1)"
      ]
     },
     "execution_count": 7,
     "metadata": {},
     "output_type": "execute_result"
    }
   ],
   "source": [
    "movies.index"
   ]
  },
  {
   "cell_type": "code",
   "execution_count": 8,
   "id": "67b5d508-bf22-4077-834c-741f3ea8b94c",
   "metadata": {},
   "outputs": [
    {
     "data": {
      "text/plain": [
       "Index(['title', 'year', 'content_rating', 'genre', 'duration', 'gross',\n",
       "       'Internet Movie Database', 'Rotten Tomatoes', 'Metacritic'],\n",
       "      dtype='object')"
      ]
     },
     "execution_count": 8,
     "metadata": {},
     "output_type": "execute_result"
    }
   ],
   "source": [
    "movies.columns"
   ]
  },
  {
   "cell_type": "code",
   "execution_count": 9,
   "id": "3dcbc0fa-1bd9-4d51-9e07-212b25ef2c36",
   "metadata": {},
   "outputs": [
    {
     "data": {
      "text/plain": [
       "12"
      ]
     },
     "execution_count": 9,
     "metadata": {},
     "output_type": "execute_result"
    }
   ],
   "source": [
    "movies.genre.unique().size"
   ]
  },
  {
   "cell_type": "code",
   "execution_count": 10,
   "id": "de274458-b512-4413-ae39-04049a7654b9",
   "metadata": {},
   "outputs": [
    {
     "data": {
      "text/plain": [
       "genre\n",
       "Crime                  16\n",
       "Drama                  14\n",
       "Action                 11\n",
       "Adventure               9\n",
       "Drama                   7\n",
       "Biography               5\n",
       "Animation               5\n",
       "Comedy                  4\n",
       "Western                 3\n",
       "Horror                  2\n",
       "Mystery                 2\n",
       "Comedy                  1\n",
       "Name: count, dtype: int64"
      ]
     },
     "execution_count": 10,
     "metadata": {},
     "output_type": "execute_result"
    }
   ],
   "source": [
    "movies.genre.value_counts()"
   ]
  },
  {
   "cell_type": "code",
   "execution_count": 11,
   "id": "779a0bfe-138a-4ec2-9cae-6c93984faaf4",
   "metadata": {},
   "outputs": [
    {
     "data": {
      "text/html": [
       "<div>\n",
       "<style scoped>\n",
       "    .dataframe tbody tr th:only-of-type {\n",
       "        vertical-align: middle;\n",
       "    }\n",
       "\n",
       "    .dataframe tbody tr th {\n",
       "        vertical-align: top;\n",
       "    }\n",
       "\n",
       "    .dataframe thead th {\n",
       "        text-align: right;\n",
       "    }\n",
       "</style>\n",
       "<table border=\"1\" class=\"dataframe\">\n",
       "  <thead>\n",
       "    <tr style=\"text-align: right;\">\n",
       "      <th></th>\n",
       "      <th>title</th>\n",
       "      <th>year</th>\n",
       "      <th>content_rating</th>\n",
       "      <th>genre</th>\n",
       "      <th>duration</th>\n",
       "      <th>gross</th>\n",
       "      <th>Internet Movie Database</th>\n",
       "      <th>Rotten Tomatoes</th>\n",
       "      <th>Metacritic</th>\n",
       "    </tr>\n",
       "  </thead>\n",
       "  <tbody>\n",
       "    <tr>\n",
       "      <th>0</th>\n",
       "      <td>The Shawshank Redemption</td>\n",
       "      <td>1994</td>\n",
       "      <td>R</td>\n",
       "      <td>Drama</td>\n",
       "      <td>142</td>\n",
       "      <td>1963330</td>\n",
       "      <td>9.3</td>\n",
       "      <td>9.1</td>\n",
       "      <td>8.0</td>\n",
       "    </tr>\n",
       "    <tr>\n",
       "      <th>1</th>\n",
       "      <td>The Godfather</td>\n",
       "      <td>1972</td>\n",
       "      <td>R</td>\n",
       "      <td>Crime</td>\n",
       "      <td>175</td>\n",
       "      <td>28341469</td>\n",
       "      <td>9.2</td>\n",
       "      <td>9.8</td>\n",
       "      <td>10.0</td>\n",
       "    </tr>\n",
       "    <tr>\n",
       "      <th>2</th>\n",
       "      <td>The Dark Knight</td>\n",
       "      <td>2008</td>\n",
       "      <td>PG-13</td>\n",
       "      <td>Action</td>\n",
       "      <td>152</td>\n",
       "      <td>1344258</td>\n",
       "      <td>9.0</td>\n",
       "      <td>9.4</td>\n",
       "      <td>8.2</td>\n",
       "    </tr>\n",
       "    <tr>\n",
       "      <th>3</th>\n",
       "      <td>The Godfather: Part II</td>\n",
       "      <td>1974</td>\n",
       "      <td>R</td>\n",
       "      <td>Crime</td>\n",
       "      <td>202</td>\n",
       "      <td>134966411</td>\n",
       "      <td>9.0</td>\n",
       "      <td>9.7</td>\n",
       "      <td>9.0</td>\n",
       "    </tr>\n",
       "    <tr>\n",
       "      <th>4</th>\n",
       "      <td>Pulp Fiction</td>\n",
       "      <td>1994</td>\n",
       "      <td>R</td>\n",
       "      <td>Crime</td>\n",
       "      <td>154</td>\n",
       "      <td>1935047</td>\n",
       "      <td>8.9</td>\n",
       "      <td>9.4</td>\n",
       "      <td>9.4</td>\n",
       "    </tr>\n",
       "  </tbody>\n",
       "</table>\n",
       "</div>"
      ],
      "text/plain": [
       "                      title  year content_rating              genre  duration  \\\n",
       "0  The Shawshank Redemption  1994              R  Drama                   142   \n",
       "1             The Godfather  1972              R              Crime       175   \n",
       "2           The Dark Knight  2008          PG-13             Action       152   \n",
       "3    The Godfather: Part II  1974              R              Crime       202   \n",
       "4              Pulp Fiction  1994              R              Crime       154   \n",
       "\n",
       "       gross  Internet Movie Database  Rotten Tomatoes  Metacritic  \n",
       "0    1963330                      9.3              9.1         8.0  \n",
       "1   28341469                      9.2              9.8        10.0  \n",
       "2    1344258                      9.0              9.4         8.2  \n",
       "3  134966411                      9.0              9.7         9.0  \n",
       "4    1935047                      8.9              9.4         9.4  "
      ]
     },
     "execution_count": 11,
     "metadata": {},
     "output_type": "execute_result"
    }
   ],
   "source": [
    "movies.head()"
   ]
  },
  {
   "cell_type": "code",
   "execution_count": 12,
   "id": "5af95536-e556-4f7a-b455-59c0467ef361",
   "metadata": {},
   "outputs": [
    {
     "data": {
      "text/html": [
       "<div>\n",
       "<style scoped>\n",
       "    .dataframe tbody tr th:only-of-type {\n",
       "        vertical-align: middle;\n",
       "    }\n",
       "\n",
       "    .dataframe tbody tr th {\n",
       "        vertical-align: top;\n",
       "    }\n",
       "\n",
       "    .dataframe thead th {\n",
       "        text-align: right;\n",
       "    }\n",
       "</style>\n",
       "<table border=\"1\" class=\"dataframe\">\n",
       "  <thead>\n",
       "    <tr style=\"text-align: right;\">\n",
       "      <th></th>\n",
       "      <th>title</th>\n",
       "      <th>Mean Rating</th>\n",
       "    </tr>\n",
       "  </thead>\n",
       "  <tbody>\n",
       "    <tr>\n",
       "      <th>1</th>\n",
       "      <td>The Godfather</td>\n",
       "      <td>9.67</td>\n",
       "    </tr>\n",
       "  </tbody>\n",
       "</table>\n",
       "</div>"
      ],
      "text/plain": [
       "           title  Mean Rating\n",
       "1  The Godfather         9.67"
      ]
     },
     "execution_count": 12,
     "metadata": {},
     "output_type": "execute_result"
    }
   ],
   "source": [
    "movies['Mean Rating'] = movies[['Internet Movie Database', 'Rotten Tomatoes', 'Metacritic']].mean(axis=1).round(2)\n",
    "movies.loc[movies['content_rating'] == 'R'].sort_values(by='Mean Rating', ascending=False)[['title', 'Mean Rating']].head(1)"
   ]
  },
  {
   "cell_type": "code",
   "execution_count": 13,
   "id": "db83920a-769b-49db-b9ed-198aa994176f",
   "metadata": {},
   "outputs": [
    {
     "data": {
      "text/plain": [
       "9.09"
      ]
     },
     "execution_count": 13,
     "metadata": {},
     "output_type": "execute_result"
    }
   ],
   "source": [
    "movies['Rotten Tomatoes'].mean().round(2)"
   ]
  },
  {
   "cell_type": "code",
   "execution_count": 14,
   "id": "b37af3c9-b934-470e-bb54-dae7bc45c9fe",
   "metadata": {},
   "outputs": [
    {
     "data": {
      "text/plain": [
       "10.0"
      ]
     },
     "execution_count": 14,
     "metadata": {},
     "output_type": "execute_result"
    }
   ],
   "source": [
    "# average rotten tomatoes rating for top 5 films\n",
    "movies.sort_values(by='Rotten Tomatoes', ascending=False).head(5)['Rotten Tomatoes'].mean().round(2)"
   ]
  },
  {
   "cell_type": "code",
   "execution_count": 15,
   "id": "b142b81f-e5b8-4794-8447-1ada61a12da2",
   "metadata": {},
   "outputs": [
    {
     "data": {
      "text/html": [
       "<div>\n",
       "<style scoped>\n",
       "    .dataframe tbody tr th:only-of-type {\n",
       "        vertical-align: middle;\n",
       "    }\n",
       "\n",
       "    .dataframe tbody tr th {\n",
       "        vertical-align: top;\n",
       "    }\n",
       "\n",
       "    .dataframe thead th {\n",
       "        text-align: right;\n",
       "    }\n",
       "</style>\n",
       "<table border=\"1\" class=\"dataframe\">\n",
       "  <thead>\n",
       "    <tr style=\"text-align: right;\">\n",
       "      <th></th>\n",
       "      <th>year</th>\n",
       "      <th>duration</th>\n",
       "      <th>gross</th>\n",
       "      <th>Internet Movie Database</th>\n",
       "      <th>Rotten Tomatoes</th>\n",
       "      <th>Metacritic</th>\n",
       "      <th>Mean Rating</th>\n",
       "    </tr>\n",
       "  </thead>\n",
       "  <tbody>\n",
       "    <tr>\n",
       "      <th>count</th>\n",
       "      <td>79.00</td>\n",
       "      <td>79.00</td>\n",
       "      <td>7.900000e+01</td>\n",
       "      <td>79.00</td>\n",
       "      <td>79.00</td>\n",
       "      <td>79.00</td>\n",
       "      <td>79.00</td>\n",
       "    </tr>\n",
       "    <tr>\n",
       "      <th>mean</th>\n",
       "      <td>1989.58</td>\n",
       "      <td>137.25</td>\n",
       "      <td>6.911975e+07</td>\n",
       "      <td>8.54</td>\n",
       "      <td>9.09</td>\n",
       "      <td>8.12</td>\n",
       "      <td>8.58</td>\n",
       "    </tr>\n",
       "    <tr>\n",
       "      <th>std</th>\n",
       "      <td>18.90</td>\n",
       "      <td>28.84</td>\n",
       "      <td>1.276363e+08</td>\n",
       "      <td>0.22</td>\n",
       "      <td>0.77</td>\n",
       "      <td>1.17</td>\n",
       "      <td>0.63</td>\n",
       "    </tr>\n",
       "    <tr>\n",
       "      <th>min</th>\n",
       "      <td>1936.00</td>\n",
       "      <td>81.00</td>\n",
       "      <td>1.918100e+04</td>\n",
       "      <td>8.30</td>\n",
       "      <td>7.10</td>\n",
       "      <td>5.50</td>\n",
       "      <td>7.03</td>\n",
       "    </tr>\n",
       "    <tr>\n",
       "      <th>25%</th>\n",
       "      <td>1979.50</td>\n",
       "      <td>115.50</td>\n",
       "      <td>8.564850e+05</td>\n",
       "      <td>8.40</td>\n",
       "      <td>8.70</td>\n",
       "      <td>7.35</td>\n",
       "      <td>8.25</td>\n",
       "    </tr>\n",
       "    <tr>\n",
       "      <th>50%</th>\n",
       "      <td>1995.00</td>\n",
       "      <td>136.00</td>\n",
       "      <td>1.535170e+06</td>\n",
       "      <td>8.50</td>\n",
       "      <td>9.30</td>\n",
       "      <td>8.20</td>\n",
       "      <td>8.70</td>\n",
       "    </tr>\n",
       "    <tr>\n",
       "      <th>75%</th>\n",
       "      <td>2002.00</td>\n",
       "      <td>153.50</td>\n",
       "      <td>9.809641e+07</td>\n",
       "      <td>8.60</td>\n",
       "      <td>9.70</td>\n",
       "      <td>9.00</td>\n",
       "      <td>9.07</td>\n",
       "    </tr>\n",
       "    <tr>\n",
       "      <th>max</th>\n",
       "      <td>2018.00</td>\n",
       "      <td>207.00</td>\n",
       "      <td>6.658453e+08</td>\n",
       "      <td>9.30</td>\n",
       "      <td>10.00</td>\n",
       "      <td>10.00</td>\n",
       "      <td>9.67</td>\n",
       "    </tr>\n",
       "  </tbody>\n",
       "</table>\n",
       "</div>"
      ],
      "text/plain": [
       "          year  duration         gross  Internet Movie Database  \\\n",
       "count    79.00     79.00  7.900000e+01                    79.00   \n",
       "mean   1989.58    137.25  6.911975e+07                     8.54   \n",
       "std      18.90     28.84  1.276363e+08                     0.22   \n",
       "min    1936.00     81.00  1.918100e+04                     8.30   \n",
       "25%    1979.50    115.50  8.564850e+05                     8.40   \n",
       "50%    1995.00    136.00  1.535170e+06                     8.50   \n",
       "75%    2002.00    153.50  9.809641e+07                     8.60   \n",
       "max    2018.00    207.00  6.658453e+08                     9.30   \n",
       "\n",
       "       Rotten Tomatoes  Metacritic  Mean Rating  \n",
       "count            79.00       79.00        79.00  \n",
       "mean              9.09        8.12         8.58  \n",
       "std               0.77        1.17         0.63  \n",
       "min               7.10        5.50         7.03  \n",
       "25%               8.70        7.35         8.25  \n",
       "50%               9.30        8.20         8.70  \n",
       "75%               9.70        9.00         9.07  \n",
       "max              10.00       10.00         9.67  "
      ]
     },
     "execution_count": 15,
     "metadata": {},
     "output_type": "execute_result"
    }
   ],
   "source": [
    "#What is the Five Number Summary like for top rated films as per IMDB?\n",
    "movies.sort_values(by='Internet Movie Database', ascending=False).describe().round(2)"
   ]
  },
  {
   "cell_type": "code",
   "execution_count": 16,
   "id": "05b61ade-015b-49c1-b1ad-c44d776dde39",
   "metadata": {},
   "outputs": [
    {
     "data": {
      "text/html": [
       "<div>\n",
       "<style scoped>\n",
       "    .dataframe tbody tr th:only-of-type {\n",
       "        vertical-align: middle;\n",
       "    }\n",
       "\n",
       "    .dataframe tbody tr th {\n",
       "        vertical-align: top;\n",
       "    }\n",
       "\n",
       "    .dataframe thead th {\n",
       "        text-align: right;\n",
       "    }\n",
       "</style>\n",
       "<table border=\"1\" class=\"dataframe\">\n",
       "  <thead>\n",
       "    <tr style=\"text-align: right;\">\n",
       "      <th></th>\n",
       "      <th>title</th>\n",
       "      <th>year</th>\n",
       "      <th>content_rating</th>\n",
       "      <th>genre</th>\n",
       "      <th>duration</th>\n",
       "      <th>gross</th>\n",
       "      <th>Internet Movie Database</th>\n",
       "      <th>Rotten Tomatoes</th>\n",
       "      <th>Metacritic</th>\n",
       "      <th>Mean Rating</th>\n",
       "      <th>RT/IMDB</th>\n",
       "    </tr>\n",
       "  </thead>\n",
       "  <tbody>\n",
       "    <tr>\n",
       "      <th>0</th>\n",
       "      <td>The Shawshank Redemption</td>\n",
       "      <td>1994</td>\n",
       "      <td>R</td>\n",
       "      <td>Drama</td>\n",
       "      <td>142</td>\n",
       "      <td>1963330</td>\n",
       "      <td>9.3</td>\n",
       "      <td>9.1</td>\n",
       "      <td>8.0</td>\n",
       "      <td>8.80</td>\n",
       "      <td>1.02</td>\n",
       "    </tr>\n",
       "    <tr>\n",
       "      <th>1</th>\n",
       "      <td>The Godfather</td>\n",
       "      <td>1972</td>\n",
       "      <td>R</td>\n",
       "      <td>Crime</td>\n",
       "      <td>175</td>\n",
       "      <td>28341469</td>\n",
       "      <td>9.2</td>\n",
       "      <td>9.8</td>\n",
       "      <td>10.0</td>\n",
       "      <td>9.67</td>\n",
       "      <td>0.94</td>\n",
       "    </tr>\n",
       "    <tr>\n",
       "      <th>2</th>\n",
       "      <td>The Dark Knight</td>\n",
       "      <td>2008</td>\n",
       "      <td>PG-13</td>\n",
       "      <td>Action</td>\n",
       "      <td>152</td>\n",
       "      <td>1344258</td>\n",
       "      <td>9.0</td>\n",
       "      <td>9.4</td>\n",
       "      <td>8.2</td>\n",
       "      <td>8.87</td>\n",
       "      <td>0.96</td>\n",
       "    </tr>\n",
       "    <tr>\n",
       "      <th>3</th>\n",
       "      <td>The Godfather: Part II</td>\n",
       "      <td>1974</td>\n",
       "      <td>R</td>\n",
       "      <td>Crime</td>\n",
       "      <td>202</td>\n",
       "      <td>134966411</td>\n",
       "      <td>9.0</td>\n",
       "      <td>9.7</td>\n",
       "      <td>9.0</td>\n",
       "      <td>9.23</td>\n",
       "      <td>0.93</td>\n",
       "    </tr>\n",
       "    <tr>\n",
       "      <th>4</th>\n",
       "      <td>Pulp Fiction</td>\n",
       "      <td>1994</td>\n",
       "      <td>R</td>\n",
       "      <td>Crime</td>\n",
       "      <td>154</td>\n",
       "      <td>1935047</td>\n",
       "      <td>8.9</td>\n",
       "      <td>9.4</td>\n",
       "      <td>9.4</td>\n",
       "      <td>9.23</td>\n",
       "      <td>0.95</td>\n",
       "    </tr>\n",
       "  </tbody>\n",
       "</table>\n",
       "</div>"
      ],
      "text/plain": [
       "                      title  year content_rating              genre  duration  \\\n",
       "0  The Shawshank Redemption  1994              R  Drama                   142   \n",
       "1             The Godfather  1972              R              Crime       175   \n",
       "2           The Dark Knight  2008          PG-13             Action       152   \n",
       "3    The Godfather: Part II  1974              R              Crime       202   \n",
       "4              Pulp Fiction  1994              R              Crime       154   \n",
       "\n",
       "       gross  Internet Movie Database  Rotten Tomatoes  Metacritic  \\\n",
       "0    1963330                      9.3              9.1         8.0   \n",
       "1   28341469                      9.2              9.8        10.0   \n",
       "2    1344258                      9.0              9.4         8.2   \n",
       "3  134966411                      9.0              9.7         9.0   \n",
       "4    1935047                      8.9              9.4         9.4   \n",
       "\n",
       "   Mean Rating  RT/IMDB  \n",
       "0         8.80     1.02  \n",
       "1         9.67     0.94  \n",
       "2         8.87     0.96  \n",
       "3         9.23     0.93  \n",
       "4         9.23     0.95  "
      ]
     },
     "execution_count": 16,
     "metadata": {},
     "output_type": "execute_result"
    }
   ],
   "source": [
    "# Find the ratio between Rotten Tomato rating vs IMDB rating for all films. Update the dataframe to include a Ratings Ratio column (inplace).\n",
    "movies['RT/IMDB'] = round(movies['Internet Movie Database'] / movies['Rotten Tomatoes'], 2)\n",
    "movies.head()"
   ]
  },
  {
   "cell_type": "code",
   "execution_count": 39,
   "id": "81b99cd4-c881-43da-8e45-12f1e64eba57",
   "metadata": {},
   "outputs": [
    {
     "data": {
      "text/html": [
       "<div>\n",
       "<style scoped>\n",
       "    .dataframe tbody tr th:only-of-type {\n",
       "        vertical-align: middle;\n",
       "    }\n",
       "\n",
       "    .dataframe tbody tr th {\n",
       "        vertical-align: top;\n",
       "    }\n",
       "\n",
       "    .dataframe thead th {\n",
       "        text-align: right;\n",
       "    }\n",
       "</style>\n",
       "<table border=\"1\" class=\"dataframe\">\n",
       "  <thead>\n",
       "    <tr style=\"text-align: right;\">\n",
       "      <th></th>\n",
       "      <th>title</th>\n",
       "      <th>year</th>\n",
       "      <th>content_rating</th>\n",
       "      <th>genre</th>\n",
       "      <th>duration</th>\n",
       "      <th>gross</th>\n",
       "      <th>Internet Movie Database</th>\n",
       "      <th>Rotten Tomatoes</th>\n",
       "      <th>Metacritic</th>\n",
       "      <th>Mean Rating</th>\n",
       "      <th>RT/IMDB</th>\n",
       "    </tr>\n",
       "  </thead>\n",
       "  <tbody>\n",
       "    <tr>\n",
       "      <th>12</th>\n",
       "      <td>Forrest Gump</td>\n",
       "      <td>1994</td>\n",
       "      <td>PG-13</td>\n",
       "      <td>Drama</td>\n",
       "      <td>142</td>\n",
       "      <td>1401164</td>\n",
       "      <td>8.8</td>\n",
       "      <td>7.2</td>\n",
       "      <td>8.2</td>\n",
       "      <td>8.07</td>\n",
       "      <td>1.22</td>\n",
       "    </tr>\n",
       "    <tr>\n",
       "      <th>19</th>\n",
       "      <td>Interstellar</td>\n",
       "      <td>2014</td>\n",
       "      <td>PG-13</td>\n",
       "      <td>Adventure</td>\n",
       "      <td>169</td>\n",
       "      <td>315544750</td>\n",
       "      <td>8.6</td>\n",
       "      <td>7.1</td>\n",
       "      <td>7.4</td>\n",
       "      <td>7.70</td>\n",
       "      <td>1.21</td>\n",
       "    </tr>\n",
       "    <tr>\n",
       "      <th>42</th>\n",
       "      <td>The Intouchables</td>\n",
       "      <td>2011</td>\n",
       "      <td>R</td>\n",
       "      <td>Biography</td>\n",
       "      <td>112</td>\n",
       "      <td>1059654</td>\n",
       "      <td>8.5</td>\n",
       "      <td>7.4</td>\n",
       "      <td>5.7</td>\n",
       "      <td>7.20</td>\n",
       "      <td>1.15</td>\n",
       "    </tr>\n",
       "  </tbody>\n",
       "</table>\n",
       "</div>"
      ],
      "text/plain": [
       "               title  year content_rating      genre  duration      gross  \\\n",
       "12      Forrest Gump  1994          PG-13      Drama       142    1401164   \n",
       "19      Interstellar  2014          PG-13  Adventure       169  315544750   \n",
       "42  The Intouchables  2011              R  Biography       112    1059654   \n",
       "\n",
       "    Internet Movie Database  Rotten Tomatoes  Metacritic  Mean Rating  RT/IMDB  \n",
       "12                      8.8              7.2         8.2         8.07     1.22  \n",
       "19                      8.6              7.1         7.4         7.70     1.21  \n",
       "42                      8.5              7.4         5.7         7.20     1.15  "
      ]
     },
     "execution_count": 39,
     "metadata": {},
     "output_type": "execute_result"
    }
   ],
   "source": [
    "# Find the top 3 ratings ratio movies (rated higher on IMBD compared to Rotten Tomatoes)\n",
    "movies.loc[movies['RT/IMDB'] > 1].sort_values(by='RT/IMDB', ascending=False).head(3)"
   ]
  },
  {
   "cell_type": "code",
   "execution_count": 41,
   "id": "5da0c47b-846c-444d-a37e-ffd4dde9ae7b",
   "metadata": {},
   "outputs": [
    {
     "data": {
      "text/html": [
       "<div>\n",
       "<style scoped>\n",
       "    .dataframe tbody tr th:only-of-type {\n",
       "        vertical-align: middle;\n",
       "    }\n",
       "\n",
       "    .dataframe tbody tr th {\n",
       "        vertical-align: top;\n",
       "    }\n",
       "\n",
       "    .dataframe thead th {\n",
       "        text-align: right;\n",
       "    }\n",
       "</style>\n",
       "<table border=\"1\" class=\"dataframe\">\n",
       "  <thead>\n",
       "    <tr style=\"text-align: right;\">\n",
       "      <th></th>\n",
       "      <th>title</th>\n",
       "      <th>year</th>\n",
       "      <th>content_rating</th>\n",
       "      <th>genre</th>\n",
       "      <th>duration</th>\n",
       "      <th>gross</th>\n",
       "      <th>Internet Movie Database</th>\n",
       "      <th>Rotten Tomatoes</th>\n",
       "      <th>Metacritic</th>\n",
       "      <th>Mean Rating</th>\n",
       "      <th>RT/IMDB</th>\n",
       "    </tr>\n",
       "  </thead>\n",
       "  <tbody>\n",
       "    <tr>\n",
       "      <th>63</th>\n",
       "      <td>Toy Story</td>\n",
       "      <td>1995</td>\n",
       "      <td>R</td>\n",
       "      <td>Animation</td>\n",
       "      <td>81</td>\n",
       "      <td>83471511</td>\n",
       "      <td>8.3</td>\n",
       "      <td>10.0</td>\n",
       "      <td>9.5</td>\n",
       "      <td>9.27</td>\n",
       "      <td>0.83</td>\n",
       "    </tr>\n",
       "    <tr>\n",
       "      <th>74</th>\n",
       "      <td>L.A. Confidential</td>\n",
       "      <td>1997</td>\n",
       "      <td>R</td>\n",
       "      <td>Crime</td>\n",
       "      <td>138</td>\n",
       "      <td>13182281</td>\n",
       "      <td>8.3</td>\n",
       "      <td>9.9</td>\n",
       "      <td>9.0</td>\n",
       "      <td>9.07</td>\n",
       "      <td>0.84</td>\n",
       "    </tr>\n",
       "    <tr>\n",
       "      <th>57</th>\n",
       "      <td>3 Idiots</td>\n",
       "      <td>2009</td>\n",
       "      <td>PG-13</td>\n",
       "      <td>Comedy</td>\n",
       "      <td>170</td>\n",
       "      <td>1136687</td>\n",
       "      <td>8.4</td>\n",
       "      <td>10.0</td>\n",
       "      <td>6.7</td>\n",
       "      <td>8.37</td>\n",
       "      <td>0.84</td>\n",
       "    </tr>\n",
       "  </tbody>\n",
       "</table>\n",
       "</div>"
      ],
      "text/plain": [
       "                title  year content_rating      genre  duration     gross  \\\n",
       "63          Toy Story  1995              R  Animation        81  83471511   \n",
       "74  L.A. Confidential  1997              R      Crime       138  13182281   \n",
       "57           3 Idiots  2009          PG-13     Comedy       170   1136687   \n",
       "\n",
       "    Internet Movie Database  Rotten Tomatoes  Metacritic  Mean Rating  RT/IMDB  \n",
       "63                      8.3             10.0         9.5         9.27     0.83  \n",
       "74                      8.3              9.9         9.0         9.07     0.84  \n",
       "57                      8.4             10.0         6.7         8.37     0.84  "
      ]
     },
     "execution_count": 41,
     "metadata": {},
     "output_type": "execute_result"
    }
   ],
   "source": [
    "# Find the bottom 3 ratings ratio movies (rated higher Rotten Tomatoes than IMDB)\n",
    "movies.sort_values(by='RT/IMDB', ascending=True).head(3)"
   ]
  },
  {
   "cell_type": "code",
   "execution_count": 93,
   "id": "5395c868-01b2-493d-a7df-0c48ddc1326c",
   "metadata": {},
   "outputs": [
    {
     "data": {
      "image/png": "[encoded data removed]",
      "text/plain": [
       "<Figure size 640x480 with 1 Axes>"
      ]
     },
     "metadata": {},
     "output_type": "display_data"
    }
   ],
   "source": [
    "# What is the relationship between IMDB ratings and Rotten Tomato ratings?\n",
    "\n",
    "plt.plot(movies.index, movies['Internet Movie Database'], label='IMDB', color='red')\n",
    "plt.plot(movies.index, movies['Rotten Tomatoes'], label='Rotten Tomatoes', color='orange')\n",
    "plt.xlabel('Index')\n",
    "plt.ylabel('Rating')\n",
    "plt.legend()\n",
    "plt.show()"
   ]
  },
  {
   "cell_type": "code",
   "execution_count": 97,
   "id": "602194da-ccc5-44db-863e-3f19708c9fd2",
   "metadata": {},
   "outputs": [
    {
     "data": {
      "text/html": [
       "<div>\n",
       "<style scoped>\n",
       "    .dataframe tbody tr th:only-of-type {\n",
       "        vertical-align: middle;\n",
       "    }\n",
       "\n",
       "    .dataframe tbody tr th {\n",
       "        vertical-align: top;\n",
       "    }\n",
       "\n",
       "    .dataframe thead th {\n",
       "        text-align: right;\n",
       "    }\n",
       "</style>\n",
       "<table border=\"1\" class=\"dataframe\">\n",
       "  <thead>\n",
       "    <tr style=\"text-align: right;\">\n",
       "      <th></th>\n",
       "      <th>title</th>\n",
       "      <th>year</th>\n",
       "      <th>content_rating</th>\n",
       "      <th>genre</th>\n",
       "      <th>duration</th>\n",
       "      <th>gross</th>\n",
       "      <th>Internet Movie Database</th>\n",
       "      <th>Rotten Tomatoes</th>\n",
       "      <th>Metacritic</th>\n",
       "      <th>Mean Rating</th>\n",
       "      <th>RT/IMDB</th>\n",
       "    </tr>\n",
       "  </thead>\n",
       "  <tbody>\n",
       "    <tr>\n",
       "      <th>0</th>\n",
       "      <td>The Shawshank Redemption</td>\n",
       "      <td>1994</td>\n",
       "      <td>R</td>\n",
       "      <td>Drama</td>\n",
       "      <td>142</td>\n",
       "      <td>1963330</td>\n",
       "      <td>9.3</td>\n",
       "      <td>9.1</td>\n",
       "      <td>8.0</td>\n",
       "      <td>8.80</td>\n",
       "      <td>1.02</td>\n",
       "    </tr>\n",
       "    <tr>\n",
       "      <th>1</th>\n",
       "      <td>The Godfather</td>\n",
       "      <td>1972</td>\n",
       "      <td>R</td>\n",
       "      <td>Crime</td>\n",
       "      <td>175</td>\n",
       "      <td>28341469</td>\n",
       "      <td>9.2</td>\n",
       "      <td>9.8</td>\n",
       "      <td>10.0</td>\n",
       "      <td>9.67</td>\n",
       "      <td>0.94</td>\n",
       "    </tr>\n",
       "    <tr>\n",
       "      <th>2</th>\n",
       "      <td>The Dark Knight</td>\n",
       "      <td>2008</td>\n",
       "      <td>PG-13</td>\n",
       "      <td>Action</td>\n",
       "      <td>152</td>\n",
       "      <td>1344258</td>\n",
       "      <td>9.0</td>\n",
       "      <td>9.4</td>\n",
       "      <td>8.2</td>\n",
       "      <td>8.87</td>\n",
       "      <td>0.96</td>\n",
       "    </tr>\n",
       "    <tr>\n",
       "      <th>3</th>\n",
       "      <td>The Godfather: Part II</td>\n",
       "      <td>1974</td>\n",
       "      <td>R</td>\n",
       "      <td>Crime</td>\n",
       "      <td>202</td>\n",
       "      <td>134966411</td>\n",
       "      <td>9.0</td>\n",
       "      <td>9.7</td>\n",
       "      <td>9.0</td>\n",
       "      <td>9.23</td>\n",
       "      <td>0.93</td>\n",
       "    </tr>\n",
       "    <tr>\n",
       "      <th>4</th>\n",
       "      <td>Pulp Fiction</td>\n",
       "      <td>1994</td>\n",
       "      <td>R</td>\n",
       "      <td>Crime</td>\n",
       "      <td>154</td>\n",
       "      <td>1935047</td>\n",
       "      <td>8.9</td>\n",
       "      <td>9.4</td>\n",
       "      <td>9.4</td>\n",
       "      <td>9.23</td>\n",
       "      <td>0.95</td>\n",
       "    </tr>\n",
       "  </tbody>\n",
       "</table>\n",
       "</div>"
      ],
      "text/plain": [
       "                      title  year content_rating              genre  duration  \\\n",
       "0  The Shawshank Redemption  1994              R  Drama                   142   \n",
       "1             The Godfather  1972              R              Crime       175   \n",
       "2           The Dark Knight  2008          PG-13             Action       152   \n",
       "3    The Godfather: Part II  1974              R              Crime       202   \n",
       "4              Pulp Fiction  1994              R              Crime       154   \n",
       "\n",
       "       gross  Internet Movie Database  Rotten Tomatoes  Metacritic  \\\n",
       "0    1963330                      9.3              9.1         8.0   \n",
       "1   28341469                      9.2              9.8        10.0   \n",
       "2    1344258                      9.0              9.4         8.2   \n",
       "3  134966411                      9.0              9.7         9.0   \n",
       "4    1935047                      8.9              9.4         9.4   \n",
       "\n",
       "   Mean Rating  RT/IMDB  \n",
       "0         8.80     1.02  \n",
       "1         9.67     0.94  \n",
       "2         8.87     0.96  \n",
       "3         9.23     0.93  \n",
       "4         9.23     0.95  "
      ]
     },
     "execution_count": 97,
     "metadata": {},
     "output_type": "execute_result"
    }
   ],
   "source": [
    "movies.head()"
   ]
  },
  {
   "cell_type": "code",
   "execution_count": 105,
   "id": "e26c2c11-0762-4f75-b14b-c89b8c2599bf",
   "metadata": {},
   "outputs": [
    {
     "data": {
      "text/plain": [
       "[<matplotlib.lines.Line2D at 0x2a6a380fa70>]"
      ]
     },
     "execution_count": 105,
     "metadata": {},
     "output_type": "execute_result"
    },
    {
     "data": {
      "image/png": "[encoded data removed]",
      "text/plain": [
       "<Figure size 640x480 with 1 Axes>"
      ]
     },
     "metadata": {},
     "output_type": "display_data"
    }
   ],
   "source": [
    "# What is the relationship between IMDB rating and movie duration?\n",
    "plt.plot(movies['Internet Movie Database'], movies['duration'], color='Green')"
   ]
  },
  {
   "cell_type": "code",
   "execution_count": 121,
   "id": "18e7ae17-e7f7-48b4-a33c-f86b8c538496",
   "metadata": {},
   "outputs": [
    {
     "data": {
      "text/plain": [
       "<Axes: xlabel='genre'>"
      ]
     },
     "execution_count": 121,
     "metadata": {},
     "output_type": "execute_result"
    },
    {
     "data": {
      "image/png": "[encoded data removed]",
      "text/plain": [
       "<Figure size 640x480 with 1 Axes>"
      ]
     },
     "metadata": {},
     "output_type": "display_data"
    }
   ],
   "source": [
    "# How many movies are there in each genre category? (Remember to create a plot here)\n",
    "movies.groupby('genre').size().reset_index(name='count').plot('genre', 'count', kind='bar', color='purple')"
   ]
  },
  {
   "cell_type": "code",
   "execution_count": 123,
   "id": "235cdc0e-765c-4121-8053-324b54be3c28",
   "metadata": {},
   "outputs": [
    {
     "data": {
      "text/html": [
       "<div>\n",
       "<style scoped>\n",
       "    .dataframe tbody tr th:only-of-type {\n",
       "        vertical-align: middle;\n",
       "    }\n",
       "\n",
       "    .dataframe tbody tr th {\n",
       "        vertical-align: top;\n",
       "    }\n",
       "\n",
       "    .dataframe thead th {\n",
       "        text-align: right;\n",
       "    }\n",
       "</style>\n",
       "<table border=\"1\" class=\"dataframe\">\n",
       "  <thead>\n",
       "    <tr style=\"text-align: right;\">\n",
       "      <th></th>\n",
       "      <th>title</th>\n",
       "      <th>year</th>\n",
       "      <th>content_rating</th>\n",
       "      <th>genre</th>\n",
       "      <th>duration</th>\n",
       "      <th>gross</th>\n",
       "      <th>Internet Movie Database</th>\n",
       "      <th>Rotten Tomatoes</th>\n",
       "      <th>Metacritic</th>\n",
       "      <th>Mean Rating</th>\n",
       "      <th>RT/IMDB</th>\n",
       "    </tr>\n",
       "  </thead>\n",
       "  <tbody>\n",
       "    <tr>\n",
       "      <th>0</th>\n",
       "      <td>The Shawshank Redemption</td>\n",
       "      <td>1994</td>\n",
       "      <td>R</td>\n",
       "      <td>Drama</td>\n",
       "      <td>142</td>\n",
       "      <td>1963330</td>\n",
       "      <td>9.3</td>\n",
       "      <td>9.1</td>\n",
       "      <td>8.0</td>\n",
       "      <td>8.80</td>\n",
       "      <td>1.02</td>\n",
       "    </tr>\n",
       "    <tr>\n",
       "      <th>1</th>\n",
       "      <td>The Godfather</td>\n",
       "      <td>1972</td>\n",
       "      <td>R</td>\n",
       "      <td>Crime</td>\n",
       "      <td>175</td>\n",
       "      <td>28341469</td>\n",
       "      <td>9.2</td>\n",
       "      <td>9.8</td>\n",
       "      <td>10.0</td>\n",
       "      <td>9.67</td>\n",
       "      <td>0.94</td>\n",
       "    </tr>\n",
       "    <tr>\n",
       "      <th>2</th>\n",
       "      <td>The Dark Knight</td>\n",
       "      <td>2008</td>\n",
       "      <td>PG-13</td>\n",
       "      <td>Action</td>\n",
       "      <td>152</td>\n",
       "      <td>1344258</td>\n",
       "      <td>9.0</td>\n",
       "      <td>9.4</td>\n",
       "      <td>8.2</td>\n",
       "      <td>8.87</td>\n",
       "      <td>0.96</td>\n",
       "    </tr>\n",
       "    <tr>\n",
       "      <th>3</th>\n",
       "      <td>The Godfather: Part II</td>\n",
       "      <td>1974</td>\n",
       "      <td>R</td>\n",
       "      <td>Crime</td>\n",
       "      <td>202</td>\n",
       "      <td>134966411</td>\n",
       "      <td>9.0</td>\n",
       "      <td>9.7</td>\n",
       "      <td>9.0</td>\n",
       "      <td>9.23</td>\n",
       "      <td>0.93</td>\n",
       "    </tr>\n",
       "    <tr>\n",
       "      <th>4</th>\n",
       "      <td>Pulp Fiction</td>\n",
       "      <td>1994</td>\n",
       "      <td>R</td>\n",
       "      <td>Crime</td>\n",
       "      <td>154</td>\n",
       "      <td>1935047</td>\n",
       "      <td>8.9</td>\n",
       "      <td>9.4</td>\n",
       "      <td>9.4</td>\n",
       "      <td>9.23</td>\n",
       "      <td>0.95</td>\n",
       "    </tr>\n",
       "  </tbody>\n",
       "</table>\n",
       "</div>"
      ],
      "text/plain": [
       "                      title  year content_rating              genre  duration  \\\n",
       "0  The Shawshank Redemption  1994              R  Drama                   142   \n",
       "1             The Godfather  1972              R              Crime       175   \n",
       "2           The Dark Knight  2008          PG-13             Action       152   \n",
       "3    The Godfather: Part II  1974              R              Crime       202   \n",
       "4              Pulp Fiction  1994              R              Crime       154   \n",
       "\n",
       "       gross  Internet Movie Database  Rotten Tomatoes  Metacritic  \\\n",
       "0    1963330                      9.3              9.1         8.0   \n",
       "1   28341469                      9.2              9.8        10.0   \n",
       "2    1344258                      9.0              9.4         8.2   \n",
       "3  134966411                      9.0              9.7         9.0   \n",
       "4    1935047                      8.9              9.4         9.4   \n",
       "\n",
       "   Mean Rating  RT/IMDB  \n",
       "0         8.80     1.02  \n",
       "1         9.67     0.94  \n",
       "2         8.87     0.96  \n",
       "3         9.23     0.93  \n",
       "4         9.23     0.95  "
      ]
     },
     "execution_count": 123,
     "metadata": {},
     "output_type": "execute_result"
    }
   ],
   "source": [
    "movies.head()"
   ]
  },
  {
   "cell_type": "code",
   "execution_count": 137,
   "id": "e5e234e1-3ba7-4541-aa76-4aa5f97b8fff",
   "metadata": {},
   "outputs": [
    {
     "data": {
      "text/plain": [
       "<Axes: xlabel='No of Movies', ylabel='Rotten Tomatoes Rating'>"
      ]
     },
     "execution_count": 137,
     "metadata": {},
     "output_type": "execute_result"
    },
    {
     "data": {
      "image/png": "[encoded data removed]",
      "text/plain": [
       "<Figure size 640x480 with 1 Axes>"
      ]
     },
     "metadata": {},
     "output_type": "display_data"
    }
   ],
   "source": [
    "# What does the distribution of Rotten Tomatoes ratings look like?\n",
    "movies.groupby('Rotten Tomatoes').size().reset_index(name='No of Movies').rename(\n",
    "    columns={'Rotten Tomatoes': 'Rotten Tomatoes Rating'}\n",
    ").plot('No of Movies', 'Rotten Tomatoes Rating', kind='scatter')"
   ]
  },
  {
   "cell_type": "code",
   "execution_count": 145,
   "id": "1395c634-7fd5-439a-b7b7-39a5a310cb5b",
   "metadata": {},
   "outputs": [
    {
     "data": {
      "text/plain": [
       "<Axes: ylabel='Frequency'>"
      ]
     },
     "execution_count": 145,
     "metadata": {},
     "output_type": "execute_result"
    },
    {
     "data": {
      "image/png": "[encoded data removed]",
      "text/plain": [
       "<Figure size 640x480 with 1 Axes>"
      ]
     },
     "metadata": {},
     "output_type": "display_data"
    }
   ],
   "source": [
    "movies['gross'].plot(kind='hist', bins=20)"
   ]
  },
  {
   "cell_type": "code",
   "execution_count": null,
   "id": "0b9a365b-37e3-4ef1-b8d6-217dbe26e5b2",
   "metadata": {},
   "outputs": [],
   "source": []
  }
 ],
 "metadata": {
  "kernelspec": {
   "display_name": "Python 3 (ipykernel)",
   "language": "python",
   "name": "python3"
  },
  "language_info": {
   "codemirror_mode": {
    "name": "ipython",
    "version": 3
   },
   "file_extension": ".py",
   "mimetype": "text/x-python",
   "name": "python",
   "nbconvert_exporter": "python",
   "pygments_lexer": "ipython3",
   "version": "3.12.4"
  }
 },
 "nbformat": 4,
 "nbformat_minor": 5
}
